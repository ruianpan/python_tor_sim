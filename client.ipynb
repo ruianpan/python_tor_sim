{
 "cells": [
  {
   "cell_type": "code",
   "execution_count": 1,
   "metadata": {},
   "outputs": [
    {
     "name": "stdout",
     "output_type": "stream",
     "text": [
      "#1I3B300I5B400#2I1B200I3B300I5B400\n"
     ]
    }
   ],
   "source": [
    "    \n",
    "import socket\n",
    "import sys\n",
    "from relayInfo import relay\n",
    "from time import sleep\n",
    "\n",
    "\n",
    "TCP_IP = '127.0.0.1'\n",
    "TCP_PORT = 3490\n",
    "BUFFER_SIZE = 1024\n",
    "\n",
    "circuitLength = 500\n",
    "MESSAGE = \"C\"+str(circuitLength)\n",
    "\n",
    "s = socket.socket(socket.AF_INET, socket.SOCK_STREAM)\n",
    "s.connect((TCP_IP, TCP_PORT))\n",
    "s.send(MESSAGE)\n",
    "data = s.recv(BUFFER_SIZE)\n",
    "print data\n",
    "s.close()"
   ]
  }
 ],
 "metadata": {
  "kernelspec": {
   "display_name": "Python 2",
   "language": "python",
   "name": "python2"
  },
  "language_info": {
   "codemirror_mode": {
    "name": "ipython",
    "version": 2
   },
   "file_extension": ".py",
   "mimetype": "text/x-python",
   "name": "python",
   "nbconvert_exporter": "python",
   "pygments_lexer": "ipython2",
   "version": "2.7.16"
  }
 },
 "nbformat": 4,
 "nbformat_minor": 2
}
